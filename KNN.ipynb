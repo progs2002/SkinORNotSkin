{
 "cells": [
  {
   "cell_type": "code",
   "execution_count": 1,
   "id": "a16714af-a8ff-4ce5-a16b-e913003a418e",
   "metadata": {},
   "outputs": [],
   "source": [
    "import numpy as np"
   ]
  },
  {
   "cell_type": "code",
   "execution_count": 2,
   "id": "b1620ac8-5577-490c-ab89-51eb8570fe3a",
   "metadata": {},
   "outputs": [],
   "source": [
    "def extract():\n",
    "    dataset = np.loadtxt('Skin_NonSkin.txt',dtype=int)\n",
    "    X, Y = dataset[:,0:3], dataset[:,3]\n",
    "    for i in range(len(Y)):\n",
    "        Y[i] = fixlabel(Y[i])\n",
    "    return X, Y"
   ]
  },
  {
   "cell_type": "code",
   "execution_count": 3,
   "id": "d44d15fd-102b-4d37-97a8-f5e6fa45ed5f",
   "metadata": {},
   "outputs": [],
   "source": [
    "def fixlabel(y):\n",
    "    if y == 2: \n",
    "        return 0\n",
    "    else:\n",
    "        return 1"
   ]
  },
  {
   "cell_type": "code",
   "execution_count": 4,
   "id": "775c6f29-174a-4ded-b290-31b690b0068d",
   "metadata": {},
   "outputs": [],
   "source": [
    "X, Y = extract()"
   ]
  },
  {
   "cell_type": "code",
   "execution_count": 23,
   "id": "3dfd19ff-9cf0-4383-a81b-fa6232b4be15",
   "metadata": {},
   "outputs": [],
   "source": [
    "r, g, b = 240, 205, 180\n",
    "query = np.array([b,g,r])"
   ]
  },
  {
   "cell_type": "code",
   "execution_count": 6,
   "id": "05fd0893-1884-42e2-85e1-72786cbf2efc",
   "metadata": {},
   "outputs": [],
   "source": [
    "def distance(p1, p2):\n",
    "    return np.sqrt((p1[0]-p2[0])**2 + (p1[1]-p2[1])**2 + (p1[2]-p2[2])**2)"
   ]
  },
  {
   "cell_type": "code",
   "execution_count": 24,
   "id": "ce41e4a2-7a77-4fb1-aa3a-1ecaf1b2eb86",
   "metadata": {},
   "outputs": [],
   "source": [
    "entries=[]\n",
    "for i in range(X.shape[0]):\n",
    "    entries.append((i,distance(query,X[i,:]),X[i,:],Y[i]))\n",
    "entries.sort(key=lambda y: y[1])\n",
    "entries"
   ]
  },
  {
   "cell_type": "code",
   "execution_count": 25,
   "id": "f4a1ea34-0f09-4b51-a760-2d686a2cb678",
   "metadata": {},
   "outputs": [],
   "source": [
    "K = 30\n",
    "sum = 0\n",
    "for i in range(0,K):\n",
    "    sum += entries[i][3]\n",
    "if sum >= K/2:\n",
    "    print(\"SKIN\")\n",
    "else:\n",
    "    print(\"NOT SKIN\")"
   ]
  },
  {
   "cell_type": "code",
   "execution_count": null,
   "id": "297ccbb6-73de-4dcd-aae9-300e69c644fd",
   "metadata": {},
   "outputs": [],
   "source": []
  }
 ],
 "metadata": {
  "kernelspec": {
   "display_name": "Python 3 (ipykernel)",
   "language": "python",
   "name": "python3"
  },
  "language_info": {
   "codemirror_mode": {
    "name": "ipython",
    "version": 3
   },
   "file_extension": ".py",
   "mimetype": "text/x-python",
   "name": "python",
   "nbconvert_exporter": "python",
   "pygments_lexer": "ipython3",
   "version": "3.9.0"
  }
 },
 "nbformat": 4,
 "nbformat_minor": 5
}
